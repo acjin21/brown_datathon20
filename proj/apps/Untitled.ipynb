{
 "cells": [
  {
   "cell_type": "code",
   "execution_count": 3,
   "metadata": {},
   "outputs": [],
   "source": [
    "import pandas as pd"
   ]
  },
  {
   "cell_type": "code",
   "execution_count": 4,
   "metadata": {},
   "outputs": [],
   "source": [
    "df = pd.read_excel('../data/port_of_entry.xlsx', sheet_name='Percent Change', header=1)\n",
    "df = df.rename(columns={'TOP 30 Ports of Entry': 'Ports of Entry','2012\\n': '2012', '2013\\n': '2013','2014\\n': '2014','2015\\n': '2015','2016\\n': '2016','2017\\n': '2017','2018\\n': '2018'})"
   ]
  },
  {
   "cell_type": "code",
   "execution_count": 5,
   "metadata": {},
   "outputs": [],
   "source": [
    "port_id=0\n",
    "df_city = pd.DataFrame(data=df.iloc[port_id])\n",
    "percent_change=list(df_city[0])[1:]\n",
    "year = ['2012', '2013', '2014', '2015', '2016', '2017', '2018']\n",
    "for i in range(len(percent_change)):\n",
    "    percent_change[i] = float(percent_change[i])\n",
    "\n",
    "port_data=[dict(x=year,\n",
    "                  y=percent_change,\n",
    "                  name='Percent Change',\n",
    "                  type='bar')]\n"
   ]
  },
  {
   "cell_type": "code",
   "execution_count": 6,
   "metadata": {},
   "outputs": [
    {
     "name": "stdout",
     "output_type": "stream",
     "text": [
      "[{'x': ['2012', '2013', '2014', '2015', '2016', '2017', '2018'], 'y': [0.04655427989632387, 0.12394580184475079, 0.08592788201003691, 0.10102154414493289, -0.024712937939386385, 0.0025041192579188056, 0.029402728707285396], 'name': 'Percent Change', 'type': 'bar'}]\n"
     ]
    }
   ],
   "source": [
    "print(port_data)"
   ]
  },
  {
   "cell_type": "code",
   "execution_count": null,
   "metadata": {},
   "outputs": [],
   "source": []
  }
 ],
 "metadata": {
  "kernelspec": {
   "display_name": "Python 3",
   "language": "python",
   "name": "python3"
  },
  "language_info": {
   "codemirror_mode": {
    "name": "ipython",
    "version": 3
   },
   "file_extension": ".py",
   "mimetype": "text/x-python",
   "name": "python",
   "nbconvert_exporter": "python",
   "pygments_lexer": "ipython3",
   "version": "3.7.3"
  }
 },
 "nbformat": 4,
 "nbformat_minor": 2
}
